{
 "cells": [
  {
   "cell_type": "markdown",
   "id": "ffeeb7df",
   "metadata": {},
   "source": [
    "# Data Science Tools and Ecosystem"
   ]
  },
  {
   "cell_type": "markdown",
   "id": "a05029c9",
   "metadata": {},
   "source": [
    "## Introduction\n",
    "\n",
    "In this notebook, Data Science Tools and Ecosystem are summarized."
   ]
  },
  {
   "cell_type": "markdown",
   "id": "65d78c95",
   "metadata": {},
   "source": [
    "# Data Science Languages  \n",
    "*This section lists some of the most commonly used programming languages in data science.*\n",
    "\n",
    "The following are popular data science languages:\n",
    "\n",
    "1. Python\n",
    "2. R  \n",
    "3. SQL  \n",
    "4. Java  \n",
    "5. Julia  \n",
    "6. Scala  \n",
    "7. MATLAB"
   ]
  },
  {
   "cell_type": "markdown",
   "id": "f86c40ed",
   "metadata": {},
   "source": [
    "# Data Science Libraries  \n",
    "*This section lists some commonly used libraries that help data scientists perform analysis, visualization, and machine learning.*\n",
    "\n",
    "1. Pandas  \n",
    "2. NumPy  \n",
    "3. Matplotlib  \n",
    "4. Seaborn  \n",
    "5. Scikit-learn  \n",
    "6. TensorFlow  \n",
    "7. Keras  \n",
    "8. Plotly"
   ]
  },
  {
   "cell_type": "markdown",
   "id": "001060ab",
   "metadata": {},
   "source": [
    "# Data Science Tools  \n",
    "*This table summarizes various tools commonly used in data science for different purposes.*\n",
    "\n",
    "| Tool          | Category          | Description                           |\n",
    "|---------------|-------------------|-------------------------------------|\n",
    "| Jupyter       | Development       | Interactive notebooks for coding    |\n",
    "| RStudio       | Development       | IDE for R programming                |\n",
    "| Git           | Version Control   | Tool to manage code versions         |\n",
    "| GitHub        | Code Hosting      | Cloud platform for sharing code      |\n",
    "| Watson Studio | Cloud Platform    | IBM’s environment for data science   |\n",
    "| Tableau       | Visualization     | Data visualization and dashboards    |\n",
    "| Apache Spark  | Big Data          | Framework for large-scale data processing |\n"
   ]
  },
  {
   "cell_type": "markdown",
   "id": "f0701cc8",
   "metadata": {},
   "source": [
    "# Arithmetic Expression Examples  \n",
    "### Below are a few examples of evaluating arithmetic expressions in Python"
   ]
  },
  {
   "cell_type": "code",
   "execution_count": 1,
   "id": "e0764763",
   "metadata": {},
   "outputs": [
    {
     "data": {
      "text/plain": [
       "17"
      ]
     },
     "execution_count": 1,
     "metadata": {},
     "output_type": "execute_result"
    }
   ],
   "source": [
    "# This a simple arithmetic expression to mutiply then add integers\n",
    "(3*4)+5"
   ]
  },
  {
   "cell_type": "markdown",
   "id": "b62da247",
   "metadata": {},
   "source": [
    "## Convert minutes to hours\n",
    "*This code converts a given number of minutes into hours and minutes.*"
   ]
  },
  {
   "cell_type": "code",
   "execution_count": 4,
   "id": "aca91455",
   "metadata": {},
   "outputs": [
    {
     "name": "stdout",
     "output_type": "stream",
     "text": [
      "200 minutes is equal to 3.3333333333333335 hours.\n"
     ]
    }
   ],
   "source": [
    "# This will convert 200 minutes to hours by diving by 60\n",
    "minutes = 200\n",
    "hours = minutes / 60\n",
    "\n",
    "print(f\"{minutes} minutes is equal to {hours} hours.\")"
   ]
  },
  {
   "cell_type": "markdown",
   "id": "05694270",
   "metadata": {},
   "source": [
    "# Objectives  \n",
    "*This section outlines the main objectives of the Tools for Data Science course.*\n",
    "\n",
    "The objectives of this course include:\n",
    "\n",
    "- Understanding the data science lifecycle  \n",
    "- Learning about popular tools and environments used in data science  \n",
    "- Gaining familiarity with open-source platforms such as Jupyter and GitHub  \n",
    "- Developing basic coding skills in Python and R  \n",
    "- Exploring cloud-based tools like IBM Watson Studio  "
   ]
  },
  {
   "cell_type": "markdown",
   "id": "191a38a3",
   "metadata": {},
   "source": [
    "# Author  \n",
    "*This notebook was created by Ayrin Akter Supty as part of the Coursera Tools for Data Science course.*"
   ]
  },
  {
   "cell_type": "markdown",
   "id": "2e3fc03b",
   "metadata": {},
   "source": []
  }
 ],
 "metadata": {
  "kernelspec": {
   "display_name": "base",
   "language": "python",
   "name": "python3"
  },
  "language_info": {
   "codemirror_mode": {
    "name": "ipython",
    "version": 3
   },
   "file_extension": ".py",
   "mimetype": "text/x-python",
   "name": "python",
   "nbconvert_exporter": "python",
   "pygments_lexer": "ipython3",
   "version": "3.12.7"
  }
 },
 "nbformat": 4,
 "nbformat_minor": 5
}
