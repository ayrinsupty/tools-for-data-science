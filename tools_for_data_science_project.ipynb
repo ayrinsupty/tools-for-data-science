{
 "cells": [
  {
   "cell_type": "markdown",
   "id": "ffeeb7df",
   "metadata": {},
   "source": [
    "# Tools for Data Science – Final Project"
   ]
  },
  {
   "cell_type": "markdown",
   "id": "a05029c9",
   "metadata": {},
   "source": [
    "## Introduction\n",
    "\n",
    "This notebook is part of the peer-graded assignment for the Coursera course *Tools for Data Science*.  \n",
    "The purpose of this notebook is to demonstrate familiarity with various tools commonly used in the data science lifecycle, including open-source tools, cloud platforms, and programming environments."
   ]
  },
  {
   "cell_type": "markdown",
   "id": "65d78c95",
   "metadata": {},
   "source": [
    "# Data Science Languages  \n",
    "*This section lists some of the most commonly used programming languages in data science.*\n",
    "\n",
    "The following are popular data science languages:\n",
    "\n",
    "1. Python  \n",
    "2. R  \n",
    "3. SQL  \n",
    "4. Java  \n",
    "5. Julia  \n",
    "6. Scala  \n",
    "7. MATLAB"
   ]
  },
  {
   "cell_type": "markdown",
   "id": "f86c40ed",
   "metadata": {},
   "source": [
    "# Data Science Libraries  \n",
    "*This section lists some commonly used libraries that help data scientists perform analysis, visualization, and machine learning.*\n",
    "\n",
    "1. Pandas  \n",
    "2. NumPy  \n",
    "3. Matplotlib  \n",
    "4. Seaborn  \n",
    "5. Scikit-learn  \n",
    "6. TensorFlow  \n",
    "7. Keras  \n",
    "8. Plotly"
   ]
  },
  {
   "cell_type": "markdown",
   "id": "001060ab",
   "metadata": {},
   "source": [
    "# Data Science Tools  \n",
    "*This table summarizes various tools commonly used in data science for different purposes.*\n",
    "\n",
    "| Tool          | Category          | Description                           |\n",
    "|---------------|-------------------|-------------------------------------|\n",
    "| Jupyter       | Development       | Interactive notebooks for coding    |\n",
    "| RStudio       | Development       | IDE for R programming                |\n",
    "| Git           | Version Control   | Tool to manage code versions         |\n",
    "| GitHub        | Code Hosting      | Cloud platform for sharing code      |\n",
    "| Watson Studio | Cloud Platform    | IBM’s environment for data science   |\n",
    "| Tableau       | Visualization     | Data visualization and dashboards    |\n",
    "| Apache Spark  | Big Data          | Framework for large-scale data processing |\n"
   ]
  },
  {
   "cell_type": "markdown",
   "id": "f0701cc8",
   "metadata": {},
   "source": [
    "# Arithmetic Expression Examples  \n",
    "*This section demonstrates basic arithmetic operations using Python code.*"
   ]
  },
  {
   "cell_type": "code",
   "execution_count": 1,
   "id": "e0764763",
   "metadata": {},
   "outputs": [
    {
     "name": "stdout",
     "output_type": "stream",
     "text": [
      "5 multiplied by 7 is: 35\n",
      "Adding 10 gives: 45\n"
     ]
    }
   ],
   "source": [
    "# Multiply and Add Numbers\n",
    "\n",
    "# Multiply 5 by 7\n",
    "product = 5 * 7\n",
    "\n",
    "# Add 10 to the product\n",
    "result = product + 10\n",
    "\n",
    "print(\"5 multiplied by 7 is:\", product)\n",
    "print(\"Adding 10 gives:\", result)"
   ]
  },
  {
   "cell_type": "markdown",
   "id": "b62da247",
   "metadata": {},
   "source": [
    "## Convert minutes to hours\n",
    "*This code converts a given number of minutes into hours and minutes.*"
   ]
  },
  {
   "cell_type": "code",
   "execution_count": 2,
   "id": "aca91455",
   "metadata": {},
   "outputs": [
    {
     "name": "stdout",
     "output_type": "stream",
     "text": [
      "135 minutes is equal to 2 hour(s) and 15 minute(s).\n"
     ]
    }
   ],
   "source": [
    "total_minutes = 135\n",
    "\n",
    "hours = total_minutes // 60\n",
    "minutes = total_minutes % 60\n",
    "\n",
    "print(f\"{total_minutes} minutes is equal to {hours} hour(s) and {minutes} minute(s).\")\n"
   ]
  },
  {
   "cell_type": "markdown",
   "id": "05694270",
   "metadata": {},
   "source": [
    "# Objectives  \n",
    "*This section outlines the main objectives of the Tools for Data Science course.*\n",
    "\n",
    "The objectives of this course include:\n",
    "\n",
    "- Understanding the data science lifecycle  \n",
    "- Learning about popular tools and environments used in data science  \n",
    "- Gaining familiarity with open-source platforms such as Jupyter and GitHub  \n",
    "- Developing basic coding skills in Python and R  \n",
    "- Exploring cloud-based tools like IBM Watson Studio  "
   ]
  },
  {
   "cell_type": "markdown",
   "id": "191a38a3",
   "metadata": {},
   "source": [
    "# Author  \n",
    "*This notebook was created by Ayrin Akter Supty as part of the Coursera Tools for Data Science course.*"
   ]
  },
  {
   "cell_type": "markdown",
   "id": "2e3fc03b",
   "metadata": {},
   "source": []
  }
 ],
 "metadata": {
  "kernelspec": {
   "display_name": "base",
   "language": "python",
   "name": "python3"
  },
  "language_info": {
   "codemirror_mode": {
    "name": "ipython",
    "version": 3
   },
   "file_extension": ".py",
   "mimetype": "text/x-python",
   "name": "python",
   "nbconvert_exporter": "python",
   "pygments_lexer": "ipython3",
   "version": "3.12.7"
  }
 },
 "nbformat": 4,
 "nbformat_minor": 5
}
